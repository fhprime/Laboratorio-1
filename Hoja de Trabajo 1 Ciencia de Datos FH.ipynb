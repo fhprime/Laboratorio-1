{
 "cells": [
  {
   "cell_type": "markdown",
   "id": "26559b76",
   "metadata": {},
   "source": [
    "# Hoja de Trabajo 1 Jupyter Notebooks, Markdown y Git"
   ]
  },
  {
   "cell_type": "markdown",
   "id": "9eb620c3",
   "metadata": {},
   "source": [
    "Acorde a lo visto en el video indicado se realiza lo siguiente en las 3 siguientes magic cells\n",
    "1. Creamos el Directorio demo\n",
    "2. Cambios de ubicacion hacia el nuevo archivo\n",
    "3. Mediante dir verificamos que si nos hemos cambiado de directorio "
   ]
  },
  {
   "cell_type": "code",
   "execution_count": 5,
   "id": "ba205798",
   "metadata": {},
   "outputs": [
    {
     "data": {
      "text/plain": [
       "[]"
      ]
     },
     "execution_count": 5,
     "metadata": {},
     "output_type": "execute_result"
    }
   ],
   "source": [
    "%system mkdir demo "
   ]
  },
  {
   "cell_type": "code",
   "execution_count": 1,
   "id": "a3e8e89f",
   "metadata": {},
   "outputs": [
    {
     "name": "stdout",
     "output_type": "stream",
     "text": [
      "c:\\Users\\fahv1\\demo\n"
     ]
    }
   ],
   "source": [
    "%cd demo"
   ]
  },
  {
   "cell_type": "code",
   "execution_count": 2,
   "id": "4c8b980c",
   "metadata": {},
   "outputs": [
    {
     "data": {
      "text/plain": [
       "[' El volumen de la unidad C es OS',\n",
       " ' El n�mero de serie del volumen es: E0BA-80D6',\n",
       " '',\n",
       " ' Directorio de c:\\\\Users\\\\fahv1\\\\demo',\n",
       " '',\n",
       " '11/02/2023  23:32    <DIR>          .',\n",
       " '12/02/2023  08:32    <DIR>          ..',\n",
       " '11/02/2023  23:32                16 hello.txt',\n",
       " '               1 archivos             16 bytes',\n",
       " '               2 dirs  327,311,613,952 bytes libres']"
      ]
     },
     "execution_count": 2,
     "metadata": {},
     "output_type": "execute_result"
    }
   ],
   "source": [
    "%system dir"
   ]
  },
  {
   "cell_type": "markdown",
   "id": "8a17cc6f",
   "metadata": {},
   "source": [
    "### Inicializamos el repositorio de git"
   ]
  },
  {
   "cell_type": "code",
   "execution_count": 5,
   "id": "8f831d80",
   "metadata": {},
   "outputs": [
    {
     "data": {
      "text/plain": [
       "['Reinitialized existing Git repository in C:/Users/fahv1/demo/.git/']"
      ]
     },
     "execution_count": 5,
     "metadata": {},
     "output_type": "execute_result"
    }
   ],
   "source": [
    "%system git init"
   ]
  },
  {
   "cell_type": "code",
   "execution_count": 6,
   "id": "8ea720b2",
   "metadata": {},
   "outputs": [
    {
     "data": {
      "text/plain": [
       "[' El volumen de la unidad C es OS',\n",
       " ' El número de serie del volumen es: E0BA-80D6',\n",
       " '',\n",
       " ' Directorio de C:\\\\Users\\\\fahv1\\\\demo',\n",
       " '',\n",
       " '11/02/2023  22:57    <DIR>          .',\n",
       " '11/02/2023  23:00    <DIR>          ..',\n",
       " '               0 archivos              0 bytes',\n",
       " '               2 dirs  326,274,932,736 bytes libres']"
      ]
     },
     "execution_count": 6,
     "metadata": {},
     "output_type": "execute_result"
    }
   ],
   "source": [
    "%system dir"
   ]
  },
  {
   "cell_type": "code",
   "execution_count": 3,
   "id": "ca305d6d",
   "metadata": {},
   "outputs": [
    {
     "data": {
      "text/plain": [
       "[' El volumen de la unidad C es OS',\n",
       " ' El n�mero de serie del volumen es: E0BA-80D6',\n",
       " '',\n",
       " ' Directorio de c:\\\\Users\\\\fahv1\\\\demo\\\\.git',\n",
       " '',\n",
       " '11/02/2023  23:32    <DIR>          ..',\n",
       " '12/02/2023  00:01            12,288 .COMMIT_EDITMSG.swl',\n",
       " '11/02/2023  23:56            12,288 .COMMIT_EDITMSG.swm',\n",
       " '11/02/2023  23:55            12,288 .COMMIT_EDITMSG.swn',\n",
       " '11/02/2023  23:52            12,288 .COMMIT_EDITMSG.swo',\n",
       " '11/02/2023  23:37            12,288 .COMMIT_EDITMSG.swp',\n",
       " '11/02/2023  23:59               231 COMMIT_EDITMSG',\n",
       " '11/02/2023  23:01               130 config',\n",
       " '11/02/2023  22:57                73 description',\n",
       " '11/02/2023  22:57                23 HEAD',\n",
       " '11/02/2023  22:57    <DIR>          hooks',\n",
       " '11/02/2023  23:36               137 index',\n",
       " '11/02/2023  22:57    <DIR>          info',\n",
       " '11/02/2023  23:36    <DIR>          objects',\n",
       " '11/02/2023  22:57    <DIR>          refs',\n",
       " '              10 archivos         62,034 bytes',\n",
       " '               5 dirs  327,321,473,024 bytes libres']"
      ]
     },
     "execution_count": 3,
     "metadata": {},
     "output_type": "execute_result"
    }
   ],
   "source": [
    "%system dir .git"
   ]
  },
  {
   "cell_type": "code",
   "execution_count": 9,
   "id": "02dba120",
   "metadata": {},
   "outputs": [
    {
     "data": {
      "text/plain": [
       "[]"
      ]
     },
     "execution_count": 9,
     "metadata": {},
     "output_type": "execute_result"
    }
   ],
   "source": [
    "%system git help init"
   ]
  },
  {
   "cell_type": "code",
   "execution_count": 4,
   "id": "e09b8518",
   "metadata": {},
   "outputs": [
    {
     "data": {
      "text/plain": [
       "['On branch master',\n",
       " '',\n",
       " 'No commits yet',\n",
       " '',\n",
       " 'Changes to be committed:',\n",
       " '  (use \"git rm --cached <file>...\" to unstage)',\n",
       " '\\tnew file:   hello.txt',\n",
       " '']"
      ]
     },
     "execution_count": 4,
     "metadata": {},
     "output_type": "execute_result"
    }
   ],
   "source": [
    "%system git status"
   ]
  },
  {
   "cell_type": "code",
   "execution_count": 11,
   "id": "192f6357",
   "metadata": {},
   "outputs": [
    {
     "data": {
      "text/plain": [
       "[]"
      ]
     },
     "execution_count": 11,
     "metadata": {},
     "output_type": "execute_result"
    }
   ],
   "source": [
    "%system echo \"hello world\" > hello.txt"
   ]
  },
  {
   "cell_type": "code",
   "execution_count": 5,
   "id": "76abfc57",
   "metadata": {},
   "outputs": [
    {
     "data": {
      "text/plain": [
       "['On branch master',\n",
       " '',\n",
       " 'No commits yet',\n",
       " '',\n",
       " 'Changes to be committed:',\n",
       " '  (use \"git rm --cached <file>...\" to unstage)',\n",
       " '\\tnew file:   hello.txt',\n",
       " '']"
      ]
     },
     "execution_count": 5,
     "metadata": {},
     "output_type": "execute_result"
    }
   ],
   "source": [
    "%system git status"
   ]
  },
  {
   "cell_type": "code",
   "execution_count": 13,
   "id": "74321e24",
   "metadata": {},
   "outputs": [
    {
     "data": {
      "text/plain": [
       "[]"
      ]
     },
     "execution_count": 13,
     "metadata": {},
     "output_type": "execute_result"
    }
   ],
   "source": [
    "%system git add hello.txt"
   ]
  },
  {
   "cell_type": "code",
   "execution_count": 4,
   "id": "bec15096",
   "metadata": {},
   "outputs": [
    {
     "data": {
      "text/plain": [
       "['On branch master',\n",
       " '',\n",
       " 'No commits yet',\n",
       " '',\n",
       " 'Changes to be committed:',\n",
       " '  (use \"git rm --cached <file>...\" to unstage)',\n",
       " '\\tnew file:   hello.txt',\n",
       " '']"
      ]
     },
     "execution_count": 4,
     "metadata": {},
     "output_type": "execute_result"
    }
   ],
   "source": [
    "%system git status"
   ]
  },
  {
   "cell_type": "code",
   "execution_count": 6,
   "id": "b60eebd8",
   "metadata": {},
   "outputs": [],
   "source": [
    "%system git commit"
   ]
  },
  {
   "cell_type": "code",
   "execution_count": 3,
   "id": "d425c85c",
   "metadata": {},
   "outputs": [
    {
     "data": {
      "text/plain": [
       "['commit f8f3cdc17deb46c6c61eaf47b5003b3b259bca1a',\n",
       " 'Author: fhprime <46831171+fhprime@users.noreply.github.com>',\n",
       " 'Date:   Sun Feb 12 08:23:49 2023 -0600',\n",
       " '',\n",
       " '    ADD hello.txt']"
      ]
     },
     "execution_count": 3,
     "metadata": {},
     "output_type": "execute_result"
    }
   ],
   "source": [
    "%system git log"
   ]
  },
  {
   "attachments": {},
   "cell_type": "markdown",
   "id": "6ee76130",
   "metadata": {},
   "source": [
    "### Los siguientes 3 comandos se usan para explorar los objetos dentro del arbol de git "
   ]
  },
  {
   "cell_type": "code",
   "execution_count": 4,
   "id": "9b40a823",
   "metadata": {},
   "outputs": [
    {
     "data": {
      "text/plain": [
       "['tree db296dfe07efedf0218b213efed465b38a6e3ffc',\n",
       " 'author fhprime <46831171+fhprime@users.noreply.github.com> 1676211829 -0600',\n",
       " 'committer fhprime <46831171+fhprime@users.noreply.github.com> 1676211829 -0600',\n",
       " '',\n",
       " 'ADD hello.txt']"
      ]
     },
     "execution_count": 4,
     "metadata": {},
     "output_type": "execute_result"
    }
   ],
   "source": [
    "%system git cat-file -p f8f3cdc"
   ]
  },
  {
   "cell_type": "code",
   "execution_count": 5,
   "id": "0401dca4",
   "metadata": {},
   "outputs": [
    {
     "data": {
      "text/plain": [
       "['100644 blob 233789ce69d7450712c42402e4a4e2ae35bbad5c\\thello.txt']"
      ]
     },
     "execution_count": 5,
     "metadata": {},
     "output_type": "execute_result"
    }
   ],
   "source": [
    "%system git cat-file -p db296dfe07efedf0218b213efed465b38a6e3ffc"
   ]
  },
  {
   "cell_type": "code",
   "execution_count": 6,
   "id": "543a7f5d",
   "metadata": {},
   "outputs": [
    {
     "data": {
      "text/plain": [
       "['\"hello world\" ']"
      ]
     },
     "execution_count": 6,
     "metadata": {},
     "output_type": "execute_result"
    }
   ],
   "source": [
    "%system git cat-file -p 233789ce69d7450712c42402e4a4e2ae35bbad5c"
   ]
  },
  {
   "cell_type": "code",
   "execution_count": 7,
   "id": "85846641",
   "metadata": {},
   "outputs": [
    {
     "data": {
      "text/plain": [
       "['commit f8f3cdc17deb46c6c61eaf47b5003b3b259bca1a',\n",
       " 'Author: fhprime <46831171+fhprime@users.noreply.github.com>',\n",
       " 'Date:   Sun Feb 12 08:23:49 2023 -0600',\n",
       " '',\n",
       " '    ADD hello.txt']"
      ]
     },
     "execution_count": 7,
     "metadata": {},
     "output_type": "execute_result"
    }
   ],
   "source": [
    "%system git log"
   ]
  },
  {
   "cell_type": "code",
   "execution_count": 8,
   "id": "dce64118",
   "metadata": {},
   "outputs": [
    {
     "data": {
      "text/plain": [
       "['* commit f8f3cdc17deb46c6c61eaf47b5003b3b259bca1a (HEAD -> master)',\n",
       " '  Author: fhprime <46831171+fhprime@users.noreply.github.com>',\n",
       " '  Date:   Sun Feb 12 08:23:49 2023 -0600',\n",
       " '  ',\n",
       " '      ADD hello.txt']"
      ]
     },
     "execution_count": 8,
     "metadata": {},
     "output_type": "execute_result"
    }
   ],
   "source": [
    "%system git log --all --graph --decorate"
   ]
  },
  {
   "cell_type": "code",
   "execution_count": 9,
   "id": "b90f596e",
   "metadata": {},
   "outputs": [
    {
     "data": {
      "text/plain": [
       "[]"
      ]
     },
     "execution_count": 9,
     "metadata": {},
     "output_type": "execute_result"
    }
   ],
   "source": [
    "%system echo \"another line\" >> hello.txt"
   ]
  },
  {
   "cell_type": "code",
   "execution_count": 11,
   "id": "63badc38",
   "metadata": {},
   "outputs": [
    {
     "data": {
      "text/plain": [
       "['\"hello world\" ', '\"another line\" ']"
      ]
     },
     "execution_count": 11,
     "metadata": {},
     "output_type": "execute_result"
    }
   ],
   "source": [
    "%system type hello.txt"
   ]
  },
  {
   "cell_type": "code",
   "execution_count": 12,
   "id": "04798173",
   "metadata": {},
   "outputs": [
    {
     "data": {
      "text/plain": [
       "['On branch master',\n",
       " 'Changes not staged for commit:',\n",
       " '  (use \"git add <file>...\" to update what will be committed)',\n",
       " '  (use \"git restore <file>...\" to discard changes in working directory)',\n",
       " '\\tmodified:   hello.txt',\n",
       " '',\n",
       " 'no changes added to commit (use \"git add\" and/or \"git commit -a\")']"
      ]
     },
     "execution_count": 12,
     "metadata": {},
     "output_type": "execute_result"
    }
   ],
   "source": [
    "%system git commit"
   ]
  },
  {
   "cell_type": "code",
   "execution_count": 13,
   "id": "f374a254",
   "metadata": {},
   "outputs": [
    {
     "data": {
      "text/plain": [
       "[]"
      ]
     },
     "execution_count": 13,
     "metadata": {},
     "output_type": "execute_result"
    }
   ],
   "source": [
    "%system git add hello.txt"
   ]
  },
  {
   "cell_type": "code",
   "execution_count": 14,
   "id": "978f9eea",
   "metadata": {},
   "outputs": [
    {
     "data": {
      "text/plain": [
       "['On branch master',\n",
       " 'Changes to be committed:',\n",
       " '  (use \"git restore --staged <file>...\" to unstage)',\n",
       " '\\tmodified:   hello.txt',\n",
       " '']"
      ]
     },
     "execution_count": 14,
     "metadata": {},
     "output_type": "execute_result"
    }
   ],
   "source": [
    "%system git status"
   ]
  },
  {
   "cell_type": "code",
   "execution_count": null,
   "id": "4233505b",
   "metadata": {},
   "outputs": [],
   "source": [
    "%system git commit"
   ]
  },
  {
   "attachments": {},
   "cell_type": "markdown",
   "id": "9f3cd640",
   "metadata": {},
   "source": [
    "### HEAD indica donde esta ubicado actualmente, el numero a la par funciona como un puntero"
   ]
  },
  {
   "cell_type": "code",
   "execution_count": 15,
   "id": "713d3ff9",
   "metadata": {},
   "outputs": [
    {
     "data": {
      "text/plain": [
       "['* commit 19e17b0a88902cbc26623f9450f8aecc29ed3342 (HEAD -> master)',\n",
       " '| Author: fhprime <46831171+fhprime@users.noreply.github.com>',\n",
       " '| Date:   Sun Feb 12 08:57:39 2023 -0600',\n",
       " '| ',\n",
       " '|     x',\n",
       " '| ',\n",
       " '* commit f8f3cdc17deb46c6c61eaf47b5003b3b259bca1a',\n",
       " '  Author: fhprime <46831171+fhprime@users.noreply.github.com>',\n",
       " '  Date:   Sun Feb 12 08:23:49 2023 -0600',\n",
       " '  ',\n",
       " '      ADD hello.txt']"
      ]
     },
     "execution_count": 15,
     "metadata": {},
     "output_type": "execute_result"
    }
   ],
   "source": [
    "%system git log --all --graph --decorate"
   ]
  },
  {
   "cell_type": "code",
   "execution_count": 2,
   "id": "ff9e718a",
   "metadata": {},
   "outputs": [
    {
     "data": {
      "text/plain": [
       "['HEAD is now at f8f3cdc ADD hello.txt']"
      ]
     },
     "execution_count": 2,
     "metadata": {},
     "output_type": "execute_result"
    }
   ],
   "source": [
    "%system git checkout f8f3cdc17"
   ]
  },
  {
   "cell_type": "code",
   "execution_count": 3,
   "id": "68fe9fa4",
   "metadata": {},
   "outputs": [
    {
     "data": {
      "text/plain": [
       "['\"hello world\" ']"
      ]
     },
     "execution_count": 3,
     "metadata": {},
     "output_type": "execute_result"
    }
   ],
   "source": [
    "%system type hello.txt"
   ]
  },
  {
   "cell_type": "code",
   "execution_count": 4,
   "id": "8363f403",
   "metadata": {},
   "outputs": [
    {
     "data": {
      "text/plain": [
       "['* commit 19e17b0a88902cbc26623f9450f8aecc29ed3342 (master)',\n",
       " '| Author: fhprime <46831171+fhprime@users.noreply.github.com>',\n",
       " '| Date:   Sun Feb 12 08:57:39 2023 -0600',\n",
       " '| ',\n",
       " '|     x',\n",
       " '| ',\n",
       " '* commit f8f3cdc17deb46c6c61eaf47b5003b3b259bca1a (HEAD)',\n",
       " '  Author: fhprime <46831171+fhprime@users.noreply.github.com>',\n",
       " '  Date:   Sun Feb 12 08:23:49 2023 -0600',\n",
       " '  ',\n",
       " '      ADD hello.txt']"
      ]
     },
     "execution_count": 4,
     "metadata": {},
     "output_type": "execute_result"
    }
   ],
   "source": [
    "%system git log --all --graph --decorate"
   ]
  },
  {
   "attachments": {},
   "cell_type": "markdown",
   "id": "12c7c930",
   "metadata": {},
   "source": [
    "### git checkout mueve el puntero con la bandera -f podemos destruir los cambios"
   ]
  },
  {
   "cell_type": "code",
   "execution_count": 5,
   "id": "460bf86f",
   "metadata": {},
   "outputs": [
    {
     "data": {
      "text/plain": [
       "['Previous HEAD position was f8f3cdc ADD hello.txt',\n",
       " \"Switched to branch 'master'\"]"
      ]
     },
     "execution_count": 5,
     "metadata": {},
     "output_type": "execute_result"
    }
   ],
   "source": [
    "%system git checkout master"
   ]
  },
  {
   "cell_type": "code",
   "execution_count": 6,
   "id": "93c00361",
   "metadata": {},
   "outputs": [
    {
     "data": {
      "text/plain": [
       "['\"hello world\" ', '\"another line\" ']"
      ]
     },
     "execution_count": 6,
     "metadata": {},
     "output_type": "execute_result"
    }
   ],
   "source": [
    "%system type hello.txt"
   ]
  },
  {
   "attachments": {},
   "cell_type": "markdown",
   "id": "9d5b1390",
   "metadata": {},
   "source": [
    "### git diff muestra que ha cambiado desde el ultimo snapshot"
   ]
  },
  {
   "cell_type": "code",
   "execution_count": 7,
   "id": "5a46b15d",
   "metadata": {},
   "outputs": [
    {
     "data": {
      "text/plain": [
       "['diff --git a/hello.txt b/hello.txt',\n",
       " 'index d2a5785..4c4ab10 100644',\n",
       " '--- a/hello.txt',\n",
       " '+++ b/hello.txt',\n",
       " '@@ -1,2 +1,3 @@',\n",
       " ' \"hello world\" ',\n",
       " ' \"another line\" ',\n",
       " '+fjkdjfkdfjkdfjdk',\n",
       " '\\\\ No newline at end of file']"
      ]
     },
     "execution_count": 7,
     "metadata": {},
     "output_type": "execute_result"
    }
   ],
   "source": [
    "%system git diff hello.txt"
   ]
  },
  {
   "cell_type": "code",
   "execution_count": 8,
   "id": "08d63ef2",
   "metadata": {},
   "outputs": [
    {
     "data": {
      "text/plain": [
       "['commit 19e17b0a88902cbc26623f9450f8aecc29ed3342',\n",
       " 'Author: fhprime <46831171+fhprime@users.noreply.github.com>',\n",
       " 'Date:   Sun Feb 12 08:57:39 2023 -0600',\n",
       " '',\n",
       " '    x',\n",
       " '',\n",
       " 'commit f8f3cdc17deb46c6c61eaf47b5003b3b259bca1a',\n",
       " 'Author: fhprime <46831171+fhprime@users.noreply.github.com>',\n",
       " 'Date:   Sun Feb 12 08:23:49 2023 -0600',\n",
       " '',\n",
       " '    ADD hello.txt']"
      ]
     },
     "execution_count": 8,
     "metadata": {},
     "output_type": "execute_result"
    }
   ],
   "source": [
    "%system git log"
   ]
  },
  {
   "attachments": {},
   "cell_type": "markdown",
   "id": "15af1325",
   "metadata": {},
   "source": [
    "### por default git diff revisa el head"
   ]
  },
  {
   "cell_type": "code",
   "execution_count": 9,
   "id": "c0b53337",
   "metadata": {},
   "outputs": [
    {
     "data": {
      "text/plain": [
       "['diff --git a/hello.txt b/hello.txt',\n",
       " 'index 233789c..4c4ab10 100644',\n",
       " '--- a/hello.txt',\n",
       " '+++ b/hello.txt',\n",
       " '@@ -1 +1,3 @@',\n",
       " ' \"hello world\" ',\n",
       " '+\"another line\" ',\n",
       " '+fjkdjfkdfjkdfjdk',\n",
       " '\\\\ No newline at end of file']"
      ]
     },
     "execution_count": 9,
     "metadata": {},
     "output_type": "execute_result"
    }
   ],
   "source": [
    "%system git diff f8f3cdc17 hello.txt"
   ]
  },
  {
   "cell_type": "code",
   "execution_count": 10,
   "id": "1e75b1a4",
   "metadata": {},
   "outputs": [
    {
     "data": {
      "text/plain": [
       "['diff --git a/hello.txt b/hello.txt',\n",
       " 'index 233789c..d2a5785 100644',\n",
       " '--- a/hello.txt',\n",
       " '+++ b/hello.txt',\n",
       " '@@ -1 +1,2 @@',\n",
       " ' \"hello world\" ',\n",
       " '+\"another line\" ']"
      ]
     },
     "execution_count": 10,
     "metadata": {},
     "output_type": "execute_result"
    }
   ],
   "source": [
    "%system git diff f8f3cdc17 HEAD hello.txt"
   ]
  },
  {
   "cell_type": "code",
   "execution_count": 11,
   "id": "b2007278",
   "metadata": {},
   "outputs": [
    {
     "data": {
      "text/plain": [
       "['On branch master',\n",
       " 'Changes not staged for commit:',\n",
       " '  (use \"git add <file>...\" to update what will be committed)',\n",
       " '  (use \"git restore <file>...\" to discard changes in working directory)',\n",
       " '\\tmodified:   hello.txt',\n",
       " '',\n",
       " 'no changes added to commit (use \"git add\" and/or \"git commit -a\")']"
      ]
     },
     "execution_count": 11,
     "metadata": {},
     "output_type": "execute_result"
    }
   ],
   "source": [
    "%system git status"
   ]
  },
  {
   "cell_type": "code",
   "execution_count": 12,
   "id": "cd0dcbac",
   "metadata": {},
   "outputs": [
    {
     "data": {
      "text/plain": [
       "['Updated 1 path from the index']"
      ]
     },
     "execution_count": 12,
     "metadata": {},
     "output_type": "execute_result"
    }
   ],
   "source": [
    "%system git checkout hello.txt"
   ]
  },
  {
   "cell_type": "code",
   "execution_count": 13,
   "id": "a6dc4570",
   "metadata": {},
   "outputs": [
    {
     "data": {
      "text/plain": [
       "['* commit 19e17b0a88902cbc26623f9450f8aecc29ed3342 (HEAD -> master)',\n",
       " '| Author: fhprime <46831171+fhprime@users.noreply.github.com>',\n",
       " '| Date:   Sun Feb 12 08:57:39 2023 -0600',\n",
       " '| ',\n",
       " '|     x',\n",
       " '| ',\n",
       " '* commit f8f3cdc17deb46c6c61eaf47b5003b3b259bca1a',\n",
       " '  Author: fhprime <46831171+fhprime@users.noreply.github.com>',\n",
       " '  Date:   Sun Feb 12 08:23:49 2023 -0600',\n",
       " '  ',\n",
       " '      ADD hello.txt']"
      ]
     },
     "execution_count": 13,
     "metadata": {},
     "output_type": "execute_result"
    }
   ],
   "source": [
    "%system git log --all --graph --decorate"
   ]
  },
  {
   "cell_type": "code",
   "execution_count": 14,
   "id": "891a1d89",
   "metadata": {},
   "outputs": [
    {
     "data": {
      "text/plain": [
       "['\"hello world\" ', '\"another line\" ']"
      ]
     },
     "execution_count": 14,
     "metadata": {},
     "output_type": "execute_result"
    }
   ],
   "source": [
    "%system type hello.txt"
   ]
  },
  {
   "cell_type": "code",
   "execution_count": 15,
   "id": "a7c4be30",
   "metadata": {},
   "outputs": [
    {
     "data": {
      "text/plain": [
       "['Hello']"
      ]
     },
     "execution_count": 15,
     "metadata": {},
     "output_type": "execute_result"
    }
   ],
   "source": [
    "%system python animal.py"
   ]
  },
  {
   "cell_type": "code",
   "execution_count": 16,
   "id": "bdaa3b75",
   "metadata": {},
   "outputs": [
    {
     "data": {
      "text/plain": [
       "['On branch master',\n",
       " 'Untracked files:',\n",
       " '  (use \"git add <file>...\" to include in what will be committed)',\n",
       " '\\tanimal.py',\n",
       " '',\n",
       " 'nothing added to commit but untracked files present (use \"git add\" to track)']"
      ]
     },
     "execution_count": 16,
     "metadata": {},
     "output_type": "execute_result"
    }
   ],
   "source": [
    "%system git status"
   ]
  },
  {
   "cell_type": "code",
   "execution_count": 17,
   "id": "36b4f99c",
   "metadata": {},
   "outputs": [
    {
     "data": {
      "text/plain": [
       "[]"
      ]
     },
     "execution_count": 17,
     "metadata": {},
     "output_type": "execute_result"
    }
   ],
   "source": [
    "%system git add animal.py"
   ]
  },
  {
   "cell_type": "code",
   "execution_count": null,
   "id": "a8928b38",
   "metadata": {},
   "outputs": [],
   "source": [
    "%system git commit"
   ]
  },
  {
   "cell_type": "code",
   "execution_count": 18,
   "id": "a2b054d1",
   "metadata": {},
   "outputs": [
    {
     "data": {
      "text/plain": [
       "['* commit 62ab9ee8879cc780bafedbd3801ff08ea9ef6a51 (HEAD -> master)',\n",
       " '| Author: fhprime <46831171+fhprime@users.noreply.github.com>',\n",
       " '| Date:   Sun Feb 12 20:25:15 2023 -0600',\n",
       " '| ',\n",
       " '|     Add animal.py',\n",
       " '| ',\n",
       " '* commit 19e17b0a88902cbc26623f9450f8aecc29ed3342',\n",
       " '| Author: fhprime <46831171+fhprime@users.noreply.github.com>',\n",
       " '| Date:   Sun Feb 12 08:57:39 2023 -0600',\n",
       " '| ',\n",
       " '|     x',\n",
       " '| ',\n",
       " '* commit f8f3cdc17deb46c6c61eaf47b5003b3b259bca1a',\n",
       " '  Author: fhprime <46831171+fhprime@users.noreply.github.com>',\n",
       " '  Date:   Sun Feb 12 08:23:49 2023 -0600',\n",
       " '  ',\n",
       " '      ADD hello.txt']"
      ]
     },
     "execution_count": 18,
     "metadata": {},
     "output_type": "execute_result"
    }
   ],
   "source": [
    "%system git log --all --graph --decorate"
   ]
  },
  {
   "cell_type": "code",
   "execution_count": 19,
   "id": "50427b2c",
   "metadata": {},
   "outputs": [
    {
     "data": {
      "text/plain": [
       "['* master']"
      ]
     },
     "execution_count": 19,
     "metadata": {},
     "output_type": "execute_result"
    }
   ],
   "source": [
    "%system git branch"
   ]
  },
  {
   "cell_type": "code",
   "execution_count": 20,
   "id": "982882ae",
   "metadata": {},
   "outputs": [
    {
     "data": {
      "text/plain": [
       "['* master 62ab9ee Add animal.py']"
      ]
     },
     "execution_count": 20,
     "metadata": {},
     "output_type": "execute_result"
    }
   ],
   "source": [
    "%system git branch -vv"
   ]
  },
  {
   "attachments": {},
   "cell_type": "markdown",
   "id": "06968936",
   "metadata": {},
   "source": [
    "### Crea un nuevo branch cat"
   ]
  },
  {
   "cell_type": "code",
   "execution_count": 21,
   "id": "0a20c0b3",
   "metadata": {},
   "outputs": [
    {
     "data": {
      "text/plain": [
       "[]"
      ]
     },
     "execution_count": 21,
     "metadata": {},
     "output_type": "execute_result"
    }
   ],
   "source": [
    "%system git branch cat"
   ]
  },
  {
   "cell_type": "code",
   "execution_count": 22,
   "id": "0de430f4",
   "metadata": {},
   "outputs": [
    {
     "data": {
      "text/plain": [
       "['* commit 62ab9ee8879cc780bafedbd3801ff08ea9ef6a51 (HEAD -> master, cat)',\n",
       " '| Author: fhprime <46831171+fhprime@users.noreply.github.com>',\n",
       " '| Date:   Sun Feb 12 20:25:15 2023 -0600',\n",
       " '| ',\n",
       " '|     Add animal.py',\n",
       " '| ',\n",
       " '* commit 19e17b0a88902cbc26623f9450f8aecc29ed3342',\n",
       " '| Author: fhprime <46831171+fhprime@users.noreply.github.com>',\n",
       " '| Date:   Sun Feb 12 08:57:39 2023 -0600',\n",
       " '| ',\n",
       " '|     x',\n",
       " '| ',\n",
       " '* commit f8f3cdc17deb46c6c61eaf47b5003b3b259bca1a',\n",
       " '  Author: fhprime <46831171+fhprime@users.noreply.github.com>',\n",
       " '  Date:   Sun Feb 12 08:23:49 2023 -0600',\n",
       " '  ',\n",
       " '      ADD hello.txt']"
      ]
     },
     "execution_count": 22,
     "metadata": {},
     "output_type": "execute_result"
    }
   ],
   "source": [
    "%system git log --all --graph --decorate"
   ]
  },
  {
   "cell_type": "code",
   "execution_count": 23,
   "id": "c9e45538",
   "metadata": {},
   "outputs": [
    {
     "data": {
      "text/plain": [
       "[\"Switched to branch 'cat'\"]"
      ]
     },
     "execution_count": 23,
     "metadata": {},
     "output_type": "execute_result"
    }
   ],
   "source": [
    "%system git checkout cat"
   ]
  },
  {
   "cell_type": "code",
   "execution_count": 24,
   "id": "6e2c2e0c",
   "metadata": {},
   "outputs": [
    {
     "data": {
      "text/plain": [
       "['* commit 62ab9ee8879cc780bafedbd3801ff08ea9ef6a51 (HEAD -> cat, master)',\n",
       " '| Author: fhprime <46831171+fhprime@users.noreply.github.com>',\n",
       " '| Date:   Sun Feb 12 20:25:15 2023 -0600',\n",
       " '| ',\n",
       " '|     Add animal.py',\n",
       " '| ',\n",
       " '* commit 19e17b0a88902cbc26623f9450f8aecc29ed3342',\n",
       " '| Author: fhprime <46831171+fhprime@users.noreply.github.com>',\n",
       " '| Date:   Sun Feb 12 08:57:39 2023 -0600',\n",
       " '| ',\n",
       " '|     x',\n",
       " '| ',\n",
       " '* commit f8f3cdc17deb46c6c61eaf47b5003b3b259bca1a',\n",
       " '  Author: fhprime <46831171+fhprime@users.noreply.github.com>',\n",
       " '  Date:   Sun Feb 12 08:23:49 2023 -0600',\n",
       " '  ',\n",
       " '      ADD hello.txt']"
      ]
     },
     "execution_count": 24,
     "metadata": {},
     "output_type": "execute_result"
    }
   ],
   "source": [
    "%system git log --all --graph --decorate"
   ]
  },
  {
   "cell_type": "code",
   "execution_count": 25,
   "id": "d32f2af2",
   "metadata": {},
   "outputs": [
    {
     "data": {
      "text/plain": [
       "['Meow!']"
      ]
     },
     "execution_count": 25,
     "metadata": {},
     "output_type": "execute_result"
    }
   ],
   "source": [
    "%system python animal.py cat"
   ]
  },
  {
   "cell_type": "code",
   "execution_count": 26,
   "id": "cb50f615",
   "metadata": {},
   "outputs": [
    {
     "data": {
      "text/plain": [
       "['Hello']"
      ]
     },
     "execution_count": 26,
     "metadata": {},
     "output_type": "execute_result"
    }
   ],
   "source": [
    "%system python animal.py dog"
   ]
  },
  {
   "cell_type": "code",
   "execution_count": 27,
   "id": "17203aaa",
   "metadata": {},
   "outputs": [
    {
     "data": {
      "text/plain": [
       "['On branch cat',\n",
       " 'Changes not staged for commit:',\n",
       " '  (use \"git add <file>...\" to update what will be committed)',\n",
       " '  (use \"git restore <file>...\" to discard changes in working directory)',\n",
       " '\\tmodified:   animal.py',\n",
       " '',\n",
       " 'no changes added to commit (use \"git add\" and/or \"git commit -a\")']"
      ]
     },
     "execution_count": 27,
     "metadata": {},
     "output_type": "execute_result"
    }
   ],
   "source": [
    "%system git status"
   ]
  },
  {
   "cell_type": "code",
   "execution_count": 28,
   "id": "8ad0af45",
   "metadata": {},
   "outputs": [
    {
     "data": {
      "text/plain": [
       "['diff --git a/animal.py b/animal.py',\n",
       " 'index 764a180..758ad6a 100644',\n",
       " '--- a/animal.py',\n",
       " '+++ b/animal.py',\n",
       " '@@ -1,9 +1,15 @@',\n",
       " ' import sys',\n",
       " '+def cat():',\n",
       " \"+    print('Meow!')\",\n",
       " '+',\n",
       " ' def default():',\n",
       " \"     print('Hello')\",\n",
       " ' ',\n",
       " ' def main():',\n",
       " '-    default()',\n",
       " \"+    if sys.argv[1] == 'cat':\",\n",
       " '+        cat()',\n",
       " '+    else:',\n",
       " '+        default()',\n",
       " ' ',\n",
       " \" if __name__ == '__main__':\",\n",
       " '     main()',\n",
       " '\\\\ No newline at end of file']"
      ]
     },
     "execution_count": 28,
     "metadata": {},
     "output_type": "execute_result"
    }
   ],
   "source": [
    "%system git diff"
   ]
  },
  {
   "cell_type": "code",
   "execution_count": 29,
   "id": "74b9415b",
   "metadata": {},
   "outputs": [
    {
     "data": {
      "text/plain": [
       "[]"
      ]
     },
     "execution_count": 29,
     "metadata": {},
     "output_type": "execute_result"
    }
   ],
   "source": [
    "%system git add animal.py"
   ]
  },
  {
   "cell_type": "code",
   "execution_count": 30,
   "id": "4aed1411",
   "metadata": {},
   "outputs": [
    {
     "data": {
      "text/plain": [
       "['* commit cc6ebc54d5e7d103234c66e3bcc8e000cc23e4c2 (HEAD -> cat)',\n",
       " '| Author: fhprime <46831171+fhprime@users.noreply.github.com>',\n",
       " '| Date:   Sun Feb 12 20:40:07 2023 -0600',\n",
       " '| ',\n",
       " '|     add cat functionality',\n",
       " '| ',\n",
       " '* commit 62ab9ee8879cc780bafedbd3801ff08ea9ef6a51 (master)',\n",
       " '| Author: fhprime <46831171+fhprime@users.noreply.github.com>',\n",
       " '| Date:   Sun Feb 12 20:25:15 2023 -0600',\n",
       " '| ',\n",
       " '|     Add animal.py',\n",
       " '| ',\n",
       " '* commit 19e17b0a88902cbc26623f9450f8aecc29ed3342',\n",
       " '| Author: fhprime <46831171+fhprime@users.noreply.github.com>',\n",
       " '| Date:   Sun Feb 12 08:57:39 2023 -0600',\n",
       " '| ',\n",
       " '|     x',\n",
       " '| ',\n",
       " '* commit f8f3cdc17deb46c6c61eaf47b5003b3b259bca1a',\n",
       " '  Author: fhprime <46831171+fhprime@users.noreply.github.com>',\n",
       " '  Date:   Sun Feb 12 08:23:49 2023 -0600',\n",
       " '  ',\n",
       " '      ADD hello.txt']"
      ]
     },
     "execution_count": 30,
     "metadata": {},
     "output_type": "execute_result"
    }
   ],
   "source": [
    "%system git log --all --graph --decorate"
   ]
  },
  {
   "cell_type": "code",
   "execution_count": 31,
   "id": "6c27136e",
   "metadata": {},
   "outputs": [
    {
     "data": {
      "text/plain": [
       "['* cc6ebc5 (HEAD -> cat) add cat functionality',\n",
       " '* 62ab9ee (master) Add animal.py',\n",
       " '* 19e17b0 x',\n",
       " '* f8f3cdc ADD hello.txt']"
      ]
     },
     "execution_count": 31,
     "metadata": {},
     "output_type": "execute_result"
    }
   ],
   "source": [
    "%system git log --all --graph --decorate --oneline"
   ]
  },
  {
   "cell_type": "code",
   "execution_count": 32,
   "id": "d1f864c0",
   "metadata": {},
   "outputs": [
    {
     "data": {
      "text/plain": [
       "[\"Switched to branch 'master'\"]"
      ]
     },
     "execution_count": 32,
     "metadata": {},
     "output_type": "execute_result"
    }
   ],
   "source": [
    "%system git checkout master"
   ]
  },
  {
   "cell_type": "code",
   "execution_count": 33,
   "id": "6d50d2c0",
   "metadata": {},
   "outputs": [
    {
     "data": {
      "text/plain": [
       "['import sys',\n",
       " 'def default():',\n",
       " \"    print('Hello')\",\n",
       " '',\n",
       " 'def main():',\n",
       " '    default()',\n",
       " '',\n",
       " \"if __name__ == '__main__':\",\n",
       " '    main()']"
      ]
     },
     "execution_count": 33,
     "metadata": {},
     "output_type": "execute_result"
    }
   ],
   "source": [
    "%system type animal.py"
   ]
  },
  {
   "cell_type": "code",
   "execution_count": 34,
   "id": "12e12dd5",
   "metadata": {},
   "outputs": [
    {
     "data": {
      "text/plain": [
       "['* cc6ebc5 (cat) add cat functionality',\n",
       " '* 62ab9ee (HEAD -> master) Add animal.py',\n",
       " '* 19e17b0 x',\n",
       " '* f8f3cdc ADD hello.txt']"
      ]
     },
     "execution_count": 34,
     "metadata": {},
     "output_type": "execute_result"
    }
   ],
   "source": [
    "%system git log --all --graph --decorate --oneline"
   ]
  },
  {
   "cell_type": "code",
   "execution_count": 35,
   "id": "c225da46",
   "metadata": {},
   "outputs": [
    {
     "data": {
      "text/plain": [
       "[\"Switched to a new branch 'dog'\"]"
      ]
     },
     "execution_count": 35,
     "metadata": {},
     "output_type": "execute_result"
    }
   ],
   "source": [
    "%system git checkout -b dog"
   ]
  },
  {
   "cell_type": "code",
   "execution_count": 36,
   "id": "af83fe2c",
   "metadata": {},
   "outputs": [
    {
     "data": {
      "text/plain": [
       "['* cc6ebc5 (cat) add cat functionality',\n",
       " '* 62ab9ee (HEAD -> dog, master) Add animal.py',\n",
       " '* 19e17b0 x',\n",
       " '* f8f3cdc ADD hello.txt']"
      ]
     },
     "execution_count": 36,
     "metadata": {},
     "output_type": "execute_result"
    }
   ],
   "source": [
    "%system git log --all --graph --decorate --oneline"
   ]
  },
  {
   "cell_type": "code",
   "execution_count": 37,
   "id": "489615ec",
   "metadata": {},
   "outputs": [
    {
     "data": {
      "text/plain": [
       "['diff --git a/animal.py b/animal.py',\n",
       " 'index 764a180..b8ae86a 100644',\n",
       " '--- a/animal.py',\n",
       " '+++ b/animal.py',\n",
       " '@@ -2,8 +2,14 @@ import sys',\n",
       " ' def default():',\n",
       " \"     print('Hello')\",\n",
       " ' ',\n",
       " '+def dog():',\n",
       " \"+    print('Woof!')\",\n",
       " '+',\n",
       " ' def main():',\n",
       " '-    default()',\n",
       " \"+    if sys.argv[1] == 'dog':\",\n",
       " '+        dog()',\n",
       " '+    else:',\n",
       " '+        default()',\n",
       " ' ',\n",
       " \" if __name__ == '__main__':\",\n",
       " '     main()',\n",
       " '\\\\ No newline at end of file']"
      ]
     },
     "execution_count": 37,
     "metadata": {},
     "output_type": "execute_result"
    }
   ],
   "source": [
    "%system git diff"
   ]
  },
  {
   "cell_type": "code",
   "execution_count": 38,
   "id": "38635597",
   "metadata": {},
   "outputs": [
    {
     "data": {
      "text/plain": [
       "[]"
      ]
     },
     "execution_count": 38,
     "metadata": {},
     "output_type": "execute_result"
    }
   ],
   "source": [
    "%system git add animal.py"
   ]
  },
  {
   "cell_type": "code",
   "execution_count": 39,
   "id": "2ff2dbcf",
   "metadata": {},
   "outputs": [
    {
     "data": {
      "text/plain": [
       "['On branch dog',\n",
       " 'Changes to be committed:',\n",
       " '  (use \"git restore --staged <file>...\" to unstage)',\n",
       " '\\tmodified:   animal.py',\n",
       " '']"
      ]
     },
     "execution_count": 39,
     "metadata": {},
     "output_type": "execute_result"
    }
   ],
   "source": [
    "%system git status"
   ]
  },
  {
   "cell_type": "code",
   "execution_count": null,
   "id": "78b8787b",
   "metadata": {},
   "outputs": [],
   "source": [
    "%system git commit"
   ]
  },
  {
   "cell_type": "code",
   "execution_count": 40,
   "id": "1d3a2249",
   "metadata": {},
   "outputs": [
    {
     "data": {
      "text/plain": [
       "['* f5fd8ee (HEAD -> dog) Add dog functionality',\n",
       " '| * cc6ebc5 (cat) add cat functionality',\n",
       " '|/  ',\n",
       " '* 62ab9ee (master) Add animal.py',\n",
       " '* 19e17b0 x',\n",
       " '* f8f3cdc ADD hello.txt']"
      ]
     },
     "execution_count": 40,
     "metadata": {},
     "output_type": "execute_result"
    }
   ],
   "source": [
    "%system git log --all --graph --decorate --oneline"
   ]
  },
  {
   "cell_type": "code",
   "execution_count": 41,
   "id": "95b297a9",
   "metadata": {},
   "outputs": [
    {
     "data": {
      "text/plain": [
       "[\"Switched to branch 'master'\"]"
      ]
     },
     "execution_count": 41,
     "metadata": {},
     "output_type": "execute_result"
    }
   ],
   "source": [
    "%system git checkout master"
   ]
  },
  {
   "cell_type": "code",
   "execution_count": 42,
   "id": "f2bff8e8",
   "metadata": {},
   "outputs": [
    {
     "data": {
      "text/plain": [
       "['* f5fd8ee (dog) Add dog functionality',\n",
       " '| * cc6ebc5 (cat) add cat functionality',\n",
       " '|/  ',\n",
       " '* 62ab9ee (HEAD -> master) Add animal.py',\n",
       " '* 19e17b0 x',\n",
       " '* f8f3cdc ADD hello.txt']"
      ]
     },
     "execution_count": 42,
     "metadata": {},
     "output_type": "execute_result"
    }
   ],
   "source": [
    "%system git log --all --graph --decorate --oneline"
   ]
  },
  {
   "attachments": {},
   "cell_type": "markdown",
   "id": "4790cb94",
   "metadata": {},
   "source": [
    "### Merge combina lo realizado "
   ]
  },
  {
   "cell_type": "code",
   "execution_count": 43,
   "id": "e097df87",
   "metadata": {},
   "outputs": [
    {
     "data": {
      "text/plain": [
       "['Updating 62ab9ee..cc6ebc5',\n",
       " 'Fast-forward',\n",
       " ' animal.py | 8 +++++++-',\n",
       " ' 1 file changed, 7 insertions(+), 1 deletion(-)']"
      ]
     },
     "execution_count": 43,
     "metadata": {},
     "output_type": "execute_result"
    }
   ],
   "source": [
    "%system git merge cat"
   ]
  },
  {
   "attachments": {},
   "cell_type": "markdown",
   "id": "0afab130",
   "metadata": {},
   "source": [
    "### Fast Forward "
   ]
  },
  {
   "cell_type": "code",
   "execution_count": 44,
   "id": "61543b83",
   "metadata": {},
   "outputs": [
    {
     "data": {
      "text/plain": [
       "['* f5fd8ee (dog) Add dog functionality',\n",
       " '| * cc6ebc5 (HEAD -> master, cat) add cat functionality',\n",
       " '|/  ',\n",
       " '* 62ab9ee Add animal.py',\n",
       " '* 19e17b0 x',\n",
       " '* f8f3cdc ADD hello.txt']"
      ]
     },
     "execution_count": 44,
     "metadata": {},
     "output_type": "execute_result"
    }
   ],
   "source": [
    "%system git log --all --graph --decorate --oneline"
   ]
  },
  {
   "cell_type": "code",
   "execution_count": 45,
   "id": "a0b40d9e",
   "metadata": {},
   "outputs": [
    {
     "data": {
      "text/plain": [
       "['import sys',\n",
       " 'def cat():',\n",
       " \"    print('Meow!')\",\n",
       " '',\n",
       " 'def default():',\n",
       " \"    print('Hello')\",\n",
       " '',\n",
       " 'def main():',\n",
       " \"    if sys.argv[1] == 'cat':\",\n",
       " '        cat()',\n",
       " '    else:',\n",
       " '        default()',\n",
       " '',\n",
       " \"if __name__ == '__main__':\",\n",
       " '    main()']"
      ]
     },
     "execution_count": 45,
     "metadata": {},
     "output_type": "execute_result"
    }
   ],
   "source": [
    "%system type animal.py"
   ]
  },
  {
   "cell_type": "code",
   "execution_count": 46,
   "id": "a7b31e61",
   "metadata": {},
   "outputs": [
    {
     "data": {
      "text/plain": [
       "['Auto-merging animal.py',\n",
       " 'CONFLICT (content): Merge conflict in animal.py',\n",
       " 'Automatic merge failed; fix conflicts and then commit the result.']"
      ]
     },
     "execution_count": 46,
     "metadata": {},
     "output_type": "execute_result"
    }
   ],
   "source": [
    "%system git merge dog"
   ]
  },
  {
   "cell_type": "code",
   "execution_count": 47,
   "id": "3895c13a",
   "metadata": {},
   "outputs": [
    {
     "data": {
      "text/plain": [
       "['error: Committing is not possible because you have unmerged files.',\n",
       " \"hint: Fix them up in the work tree, and then use 'git add/rm <file>'\",\n",
       " 'hint: as appropriate to mark resolution and make a commit.',\n",
       " 'fatal: Exiting because of an unresolved conflict.',\n",
       " 'U\\tanimal.py']"
      ]
     },
     "execution_count": 47,
     "metadata": {},
     "output_type": "execute_result"
    }
   ],
   "source": [
    "%system git merge --continue"
   ]
  },
  {
   "cell_type": "code",
   "execution_count": 48,
   "id": "65bc4514",
   "metadata": {},
   "outputs": [
    {
     "data": {
      "text/plain": [
       "[]"
      ]
     },
     "execution_count": 48,
     "metadata": {},
     "output_type": "execute_result"
    }
   ],
   "source": [
    "%system git add animal.py"
   ]
  },
  {
   "cell_type": "code",
   "execution_count": 49,
   "id": "11c771e3",
   "metadata": {},
   "outputs": [
    {
     "data": {
      "text/plain": [
       "[\"*   d6c0e4a (HEAD -> master) Merge branch 'dog'\",\n",
       " '|\\\\  ',\n",
       " '| * f5fd8ee (dog) Add dog functionality',\n",
       " '* | cc6ebc5 (cat) add cat functionality',\n",
       " '|/  ',\n",
       " '* 62ab9ee Add animal.py',\n",
       " '* 19e17b0 x',\n",
       " '* f8f3cdc ADD hello.txt']"
      ]
     },
     "execution_count": 49,
     "metadata": {},
     "output_type": "execute_result"
    }
   ],
   "source": [
    "%system git log --all --graph --decorate --oneline"
   ]
  },
  {
   "cell_type": "code",
   "execution_count": 50,
   "id": "8310d687",
   "metadata": {},
   "outputs": [
    {
     "data": {
      "text/plain": [
       "['Meow!']"
      ]
     },
     "execution_count": 50,
     "metadata": {},
     "output_type": "execute_result"
    }
   ],
   "source": [
    "%system python animal.py cat"
   ]
  },
  {
   "cell_type": "code",
   "execution_count": 51,
   "id": "356d5fb7",
   "metadata": {},
   "outputs": [
    {
     "data": {
      "text/plain": [
       "['Woof!']"
      ]
     },
     "execution_count": 51,
     "metadata": {},
     "output_type": "execute_result"
    }
   ],
   "source": [
    "%system python animal.py dog"
   ]
  },
  {
   "cell_type": "code",
   "execution_count": 52,
   "id": "587d172b",
   "metadata": {},
   "outputs": [
    {
     "data": {
      "text/plain": [
       "['Hello']"
      ]
     },
     "execution_count": 52,
     "metadata": {},
     "output_type": "execute_result"
    }
   ],
   "source": [
    "%system python animal.py asd"
   ]
  },
  {
   "attachments": {},
   "cell_type": "markdown",
   "id": "7809b9ee",
   "metadata": {},
   "source": [
    "# GIT remote"
   ]
  },
  {
   "cell_type": "code",
   "execution_count": 53,
   "id": "28dafcf0",
   "metadata": {},
   "outputs": [
    {
     "data": {
      "text/plain": [
       "[' El volumen de la unidad C es OS',\n",
       " ' El n�mero de serie del volumen es: E0BA-80D6',\n",
       " '',\n",
       " ' Directorio de c:\\\\Users\\\\fahv1\\\\demo\\\\.git',\n",
       " '',\n",
       " '12/02/2023  20:53    <DIR>          ..',\n",
       " '12/02/2023  00:01            12,288 .COMMIT_EDITMSG.swl',\n",
       " '11/02/2023  23:56            12,288 .COMMIT_EDITMSG.swm',\n",
       " '11/02/2023  23:55            12,288 .COMMIT_EDITMSG.swn',\n",
       " '11/02/2023  23:52            12,288 .COMMIT_EDITMSG.swo',\n",
       " '12/02/2023  08:56            12,288 .COMMIT_EDITMSG.swp',\n",
       " '12/02/2023  21:21               441 COMMIT_EDITMSG',\n",
       " '11/02/2023  23:01               130 config',\n",
       " '11/02/2023  22:57                73 description',\n",
       " '12/02/2023  20:50                23 HEAD',\n",
       " '11/02/2023  22:57    <DIR>          hooks',\n",
       " '12/02/2023  21:21               308 index',\n",
       " '11/02/2023  22:57    <DIR>          info',\n",
       " '12/02/2023  08:32    <DIR>          logs',\n",
       " '12/02/2023  21:22    <DIR>          objects',\n",
       " '12/02/2023  20:53                41 ORIG_HEAD',\n",
       " '11/02/2023  22:57    <DIR>          refs',\n",
       " '              11 archivos         62,456 bytes',\n",
       " '               6 dirs  326,076,833,792 bytes libres']"
      ]
     },
     "execution_count": 53,
     "metadata": {},
     "output_type": "execute_result"
    }
   ],
   "source": [
    "%system dir .git"
   ]
  },
  {
   "cell_type": "code",
   "execution_count": 68,
   "id": "13fc807f",
   "metadata": {},
   "outputs": [
    {
     "data": {
      "text/plain": [
       "[]"
      ]
     },
     "execution_count": 68,
     "metadata": {},
     "output_type": "execute_result"
    }
   ],
   "source": [
    "%system cd .."
   ]
  },
  {
   "cell_type": "code",
   "execution_count": 71,
   "id": "1e42714c",
   "metadata": {},
   "outputs": [
    {
     "data": {
      "text/plain": [
       "[]"
      ]
     },
     "execution_count": 71,
     "metadata": {},
     "output_type": "execute_result"
    }
   ],
   "source": [
    "%system cd \\"
   ]
  },
  {
   "cell_type": "code",
   "execution_count": 73,
   "id": "7145e7ae",
   "metadata": {},
   "outputs": [
    {
     "data": {
      "text/plain": [
       "[]"
      ]
     },
     "execution_count": 73,
     "metadata": {},
     "output_type": "execute_result"
    }
   ],
   "source": [
    "%system git remote"
   ]
  },
  {
   "cell_type": "code",
   "execution_count": 74,
   "id": "71ddff5f",
   "metadata": {},
   "outputs": [
    {
     "data": {
      "text/plain": [
       "[]"
      ]
     },
     "execution_count": 74,
     "metadata": {},
     "output_type": "execute_result"
    }
   ],
   "source": [
    "%system git remote add origin ..\\remote"
   ]
  },
  {
   "attachments": {},
   "cell_type": "markdown",
   "id": "8cd04bf5",
   "metadata": {},
   "source": [
    "##### git push remote local branch: remote branch"
   ]
  },
  {
   "cell_type": "code",
   "execution_count": 75,
   "id": "785b2443",
   "metadata": {},
   "outputs": [
    {
     "data": {
      "text/plain": [
       "[\"*   d6c0e4a (HEAD -> master) Merge branch 'dog'\",\n",
       " '|\\\\  ',\n",
       " '| * f5fd8ee (dog) Add dog functionality',\n",
       " '* | cc6ebc5 (cat) add cat functionality',\n",
       " '|/  ',\n",
       " '* 62ab9ee Add animal.py',\n",
       " '* 19e17b0 x',\n",
       " '* f8f3cdc ADD hello.txt']"
      ]
     },
     "execution_count": 75,
     "metadata": {},
     "output_type": "execute_result"
    }
   ],
   "source": [
    "%system git log --all --graph --decorate --oneline"
   ]
  },
  {
   "cell_type": "code",
   "execution_count": 76,
   "id": "bb82e1a3",
   "metadata": {},
   "outputs": [
    {
     "data": {
      "text/plain": [
       "['To ..\\\\remote', ' * [new branch]      master -> master']"
      ]
     },
     "execution_count": 76,
     "metadata": {},
     "output_type": "execute_result"
    }
   ],
   "source": [
    "%system git push origin master:master"
   ]
  },
  {
   "cell_type": "code",
   "execution_count": 77,
   "id": "dcc2d2e5",
   "metadata": {},
   "outputs": [
    {
     "data": {
      "text/plain": [
       "[\"*   d6c0e4a (HEAD -> master, origin/master) Merge branch 'dog'\",\n",
       " '|\\\\  ',\n",
       " '| * f5fd8ee (dog) Add dog functionality',\n",
       " '* | cc6ebc5 (cat) add cat functionality',\n",
       " '|/  ',\n",
       " '* 62ab9ee Add animal.py',\n",
       " '* 19e17b0 x',\n",
       " '* f8f3cdc ADD hello.txt']"
      ]
     },
     "execution_count": 77,
     "metadata": {},
     "output_type": "execute_result"
    }
   ],
   "source": [
    "%system git log --all --graph --decorate --oneline"
   ]
  },
  {
   "cell_type": "code",
   "execution_count": 78,
   "id": "a44da727",
   "metadata": {},
   "outputs": [
    {
     "data": {
      "text/plain": [
       "[]"
      ]
     },
     "execution_count": 78,
     "metadata": {},
     "output_type": "execute_result"
    }
   ],
   "source": [
    "%system git add animal.py"
   ]
  },
  {
   "cell_type": "code",
   "execution_count": 79,
   "id": "56052742",
   "metadata": {},
   "outputs": [
    {
     "data": {
      "text/plain": [
       "[\"[master ff69aaa] 'x'\", ' 1 file changed, 3 insertions(+), 3 deletions(-)']"
      ]
     },
     "execution_count": 79,
     "metadata": {},
     "output_type": "execute_result"
    }
   ],
   "source": [
    "%system git commit -m 'x'"
   ]
  },
  {
   "cell_type": "code",
   "execution_count": 80,
   "id": "60b536f2",
   "metadata": {},
   "outputs": [
    {
     "data": {
      "text/plain": [
       "[\"* ff69aaa (HEAD -> master) 'x'\",\n",
       " \"*   d6c0e4a (origin/master) Merge branch 'dog'\",\n",
       " '|\\\\  ',\n",
       " '| * f5fd8ee (dog) Add dog functionality',\n",
       " '* | cc6ebc5 (cat) add cat functionality',\n",
       " '|/  ',\n",
       " '* 62ab9ee Add animal.py',\n",
       " '* 19e17b0 x',\n",
       " '* f8f3cdc ADD hello.txt']"
      ]
     },
     "execution_count": 80,
     "metadata": {},
     "output_type": "execute_result"
    }
   ],
   "source": [
    "%system git log --all --graph --decorate --oneline"
   ]
  },
  {
   "cell_type": "code",
   "execution_count": 81,
   "id": "c72a8d15",
   "metadata": {},
   "outputs": [
    {
     "data": {
      "text/plain": [
       "[\"branch 'master' set up to track 'origin/master'.\"]"
      ]
     },
     "execution_count": 81,
     "metadata": {},
     "output_type": "execute_result"
    }
   ],
   "source": [
    "%system git branch --set-upstream-to=origin/master"
   ]
  },
  {
   "cell_type": "code",
   "execution_count": 82,
   "id": "588a6f95",
   "metadata": {},
   "outputs": [
    {
     "data": {
      "text/plain": [
       "['  cat    cc6ebc5 add cat functionality',\n",
       " '  dog    f5fd8ee Add dog functionality',\n",
       " \"* master ff69aaa [origin/master: ahead 1] 'x'\"]"
      ]
     },
     "execution_count": 82,
     "metadata": {},
     "output_type": "execute_result"
    }
   ],
   "source": [
    "%system git branch -vv"
   ]
  },
  {
   "cell_type": "code",
   "execution_count": 83,
   "id": "68bbb97a",
   "metadata": {},
   "outputs": [
    {
     "data": {
      "text/plain": [
       "['To ..\\\\remote', '   d6c0e4a..ff69aaa  master -> master']"
      ]
     },
     "execution_count": 83,
     "metadata": {},
     "output_type": "execute_result"
    }
   ],
   "source": [
    "%system git push"
   ]
  },
  {
   "attachments": {},
   "cell_type": "markdown",
   "id": "9a4bae99",
   "metadata": {},
   "source": [
    "#### git fetch muestra los nuevos commits realizados"
   ]
  },
  {
   "attachments": {},
   "cell_type": "markdown",
   "id": "a891c875",
   "metadata": {},
   "source": [
    "### git pull hace lo mismo que fetch + merge"
   ]
  },
  {
   "attachments": {},
   "cell_type": "markdown",
   "id": "00f3ac39",
   "metadata": {},
   "source": [
    "#### *vim ~\\.gitconfig* con este comando puedo editar el archivo para configurar git"
   ]
  },
  {
   "attachments": {},
   "cell_type": "markdown",
   "id": "d2ca8136",
   "metadata": {},
   "source": [
    "### git clone --shallow solo copia el ultimo snapshot no todo el historial "
   ]
  },
  {
   "attachments": {},
   "cell_type": "markdown",
   "id": "48fe44af",
   "metadata": {},
   "source": [
    "#### git blame muestras los commits hecho y por quien"
   ]
  },
  {
   "attachments": {},
   "cell_type": "markdown",
   "id": "21003129",
   "metadata": {},
   "source": [
    "#### git bisect "
   ]
  },
  {
   "attachments": {},
   "cell_type": "markdown",
   "id": "afe0ec8d",
   "metadata": {},
   "source": [
    "### De forma resumida GIT es una herramienta poderosa en el area de programacion y mas que todo para trabajar en equipo, a lo largo de mi carrera, habia visto comandos simples como push, add y commit, sin embargo, aqui pude aprendes los siguientes "
   ]
  },
  {
   "attachments": {},
   "cell_type": "markdown",
   "id": "ff55f489",
   "metadata": {},
   "source": [
    "|Comando |Funcion|\n",
    "|:-----|:----:|\n",
    "|git status |Este comando muestra el estado actual del repositorio o del directorio donde se esta trabajando|\n",
    "|git log .... |Comando que muestra el historial del repositorio o proyecto |\n",
    "|git init|Comando que inicializa un proyecto o repositorio |\n",
    "|git checkout|Comando que permite cambiar de branch en el repositorio |\n",
    "|git merge |Comando que permite combinar las distintas versiones de un documento en el proyecto |\n",
    "|git blame|Comando que da mas detalles acerca de los committs realizados, tal como el usuario que lo hizo|"
   ]
  },
  {
   "attachments": {},
   "cell_type": "markdown",
   "id": "f0b0f03f",
   "metadata": {},
   "source": [
    "## Conclusiones"
   ]
  },
  {
   "attachments": {},
   "cell_type": "markdown",
   "id": "b970ca9e",
   "metadata": {},
   "source": [
    "1. A pesar de la gran cantidad de comandos enseñados aun hay muchas funcionalidades por descubrir y aprender de git tal como git config\n",
    "2. Cuando se obtiene un error de merge conflict es tarea del programador resolver ese conflicto aun asi existe la herramiente de mergetool como apoyo\n",
    "3. Determine como cambiarme de branch, algo que antes sabia que se podia pero que no habia podido explorar, ademas del funcionamiento explicado mediante snapshots fue increible "
   ]
  }
 ],
 "metadata": {
  "kernelspec": {
   "display_name": "base",
   "language": "python",
   "name": "python3"
  },
  "language_info": {
   "codemirror_mode": {
    "name": "ipython",
    "version": 3
   },
   "file_extension": ".py",
   "mimetype": "text/x-python",
   "name": "python",
   "nbconvert_exporter": "python",
   "pygments_lexer": "ipython3",
   "version": "3.9.13"
  },
  "vscode": {
   "interpreter": {
    "hash": "5b9cf49fa92978537ab9bdff70f1d4ad5fa616dc462fbf1ad2beb85663942639"
   }
  }
 },
 "nbformat": 4,
 "nbformat_minor": 5
}
